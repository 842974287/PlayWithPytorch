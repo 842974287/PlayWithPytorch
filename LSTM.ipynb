{
 "cells": [
  {
   "cell_type": "code",
   "execution_count": 1,
   "metadata": {},
   "outputs": [],
   "source": [
    "# https://pytorch.org/tutorials/beginner/nlp/sequence_models_tutorial.html\n",
    "\n",
    "import torch\n",
    "import torch.nn as nn\n",
    "import torch.nn.functional as F\n",
    "import torch.optim as optim"
   ]
  },
  {
   "cell_type": "code",
   "execution_count": 4,
   "metadata": {},
   "outputs": [],
   "source": [
    "training_data = [(\"The dog ate the apple\".split(), [\"DET\", \"NN\", \"V\", \"DET\", \"NN\"]),\n",
    "                 (\"Everybody read that book\".split(), [\"NN\", \"V\", \"DET\", \"NN\"])]\n",
    "word2index = {}\n",
    "\n",
    "for sent, tags in training_data:\n",
    "    for word in sent:\n",
    "        if word not in word2index:\n",
    "            word2index[word] = len(word2index)\n",
    "\n",
    "tag2index = {\"DET\": 0, \"NN\": 1, \"V\": 2}"
   ]
  },
  {
   "cell_type": "code",
   "execution_count": 5,
   "metadata": {},
   "outputs": [],
   "source": [
    "class LSTMTagger(nn.Module):\n",
    "    def __init__(self, embedding_dim, hidden_dim, vocab_size, tag_size):\n",
    "        super(LSTMTagger, self).__init__()\n",
    "        \n",
    "        self.word_embedding = nn.Embedding(vocab_size, embedding_dim)\n",
    "        self.lstm = nn.LSTM(embedding_dim, hidden_dim)\n",
    "        self.hidden2tag = nn.Linear(hidden_dim, tag_size)\n",
    "        \n",
    "    def forward(self, seq):\n",
    "        embeds = self.word_embedding(seq)\n",
    "        out, _ = self.lstm(embeds.view(len(seq), 1, -1))\n",
    "        out = self.hidden2tag(out.view(len(seq), -1))\n",
    "        out = F.log_softmax(out, dim = 1)\n",
    "        \n",
    "        return out\n",
    "    \n",
    "model = LSTMTagger(6, 16, len(word2index), len(tag2index))\n",
    "loss_f = nn.NLLLoss()\n",
    "optimizer = optim.SGD(model.parameters(), lr = 0.1)"
   ]
  },
  {
   "cell_type": "code",
   "execution_count": 10,
   "metadata": {},
   "outputs": [
    {
     "name": "stdout",
     "output_type": "stream",
     "text": [
      "tensor([[-1.0938, -1.0020, -1.2110],\n",
      "        [-1.1015, -1.0036, -1.2004],\n",
      "        [-1.0983, -0.9876, -1.2238],\n",
      "        [-1.1521, -0.9553, -1.2062],\n",
      "        [-1.1115, -1.0230, -1.1666]])\n",
      "tensor([[-2.9054e-02, -4.0877e+00, -4.4347e+00],\n",
      "        [-4.2514e+00, -2.0291e-02, -5.1426e+00],\n",
      "        [-3.3132e+00, -6.4645e+00, -3.8697e-02],\n",
      "        [-2.5116e-02, -4.6546e+00, -4.1809e+00],\n",
      "        [-5.5187e+00, -6.1245e-03, -6.1684e+00]])\n"
     ]
    }
   ],
   "source": [
    "with torch.no_grad():\n",
    "    inputs = torch.tensor([word2index[w] for w in training_data[0][0]], dtype = torch.long)\n",
    "    tag_scores = model(inputs)\n",
    "\n",
    "    print(tag_scores)\n",
    "    \n",
    "for epoch in range(300):\n",
    "    for sentence, tags in training_data:\n",
    "        model.zero_grad()\n",
    "        seq = [word2index[w] for w in sentence]\n",
    "        targets = [tag2index[t] for t in tags]\n",
    "        predicts = model(torch.tensor(seq, dtype = torch.long))\n",
    "        loss = loss_f(predicts, torch.tensor(targets, dtype = torch.long))\n",
    "        loss.backward()\n",
    "        optimizer.step()\n",
    "        \n",
    "with torch.no_grad():\n",
    "    inputs = torch.tensor([word2index[w] for w in training_data[0][0]], dtype = torch.long)\n",
    "    tag_scores = model(inputs)\n",
    "\n",
    "    print(tag_scores)"
   ]
  },
  {
   "cell_type": "code",
   "execution_count": null,
   "metadata": {},
   "outputs": [],
   "source": []
  }
 ],
 "metadata": {
  "kernelspec": {
   "display_name": "Python 3",
   "language": "python",
   "name": "python3"
  },
  "language_info": {
   "codemirror_mode": {
    "name": "ipython",
    "version": 3
   },
   "file_extension": ".py",
   "mimetype": "text/x-python",
   "name": "python",
   "nbconvert_exporter": "python",
   "pygments_lexer": "ipython3",
   "version": "3.7.1"
  }
 },
 "nbformat": 4,
 "nbformat_minor": 2
}
