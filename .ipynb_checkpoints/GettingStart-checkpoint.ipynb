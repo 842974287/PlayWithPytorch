{
 "cells": [
  {
   "cell_type": "code",
   "execution_count": 1,
   "metadata": {},
   "outputs": [],
   "source": [
    "import torch"
   ]
  },
  {
   "cell_type": "code",
   "execution_count": 2,
   "metadata": {},
   "outputs": [
    {
     "name": "stdout",
     "output_type": "stream",
     "text": [
      "tensor([[7.5205e+28, 7.6286e-19, 7.1758e+22],\n",
      "        [1.4349e-19, 2.7530e+12, 7.5338e+28]])\n"
     ]
    }
   ],
   "source": [
    "# uninitialized matrix\n",
    "\n",
    "print(torch.empty(2, 3))"
   ]
  },
  {
   "cell_type": "code",
   "execution_count": 3,
   "metadata": {},
   "outputs": [
    {
     "name": "stdout",
     "output_type": "stream",
     "text": [
      "tensor([[0.4763, 0.5496, 0.0581],\n",
      "        [0.1202, 0.1448, 0.2057]])\n"
     ]
    }
   ],
   "source": [
    "# randomly initialized matrix\n",
    "\n",
    "print(torch.rand(2, 3))"
   ]
  },
  {
   "cell_type": "code",
   "execution_count": 6,
   "metadata": {},
   "outputs": [
    {
     "name": "stdout",
     "output_type": "stream",
     "text": [
      "tensor([[0, 0, 0],\n",
      "        [0, 0, 0]])\n",
      "tensor([[0., 0., 0.],\n",
      "        [0., 0., 0.]], dtype=torch.float64)\n",
      "tensor([[0., 0., 0.],\n",
      "        [0., 0., 0.]])\n"
     ]
    }
   ],
   "source": [
    "# matrix filled with zeros and of different types\n",
    "\n",
    "print(torch.zeros(2, 3, dtype = torch.long))\n",
    "print(torch.zeros(2, 3, dtype = torch.double))\n",
    "print(torch.zeros(2, 3, dtype = torch.float))"
   ]
  },
  {
   "cell_type": "code",
   "execution_count": 12,
   "metadata": {},
   "outputs": [
    {
     "name": "stdout",
     "output_type": "stream",
     "text": [
      "tensor([[5.5000, 3.0000],\n",
      "        [3.1000, 2.9900]])\n",
      "tensor([[1, 1],\n",
      "        [1, 1]], dtype=torch.int32)\n",
      "tensor([[-1.0813,  1.8306],\n",
      "        [ 0.1754,  1.5431]])\n"
     ]
    }
   ],
   "source": [
    "# construct a tensor from given data\n",
    "\n",
    "x = torch.tensor([[5.5, 3], [3.1, 2.99]])\n",
    "print(x)\n",
    "\n",
    "# create a tensor based on an existing tensor\n",
    "# filled with ones\n",
    "\n",
    "print(x.new_ones(2, 2, dtype = torch.int))\n",
    "\n",
    "# filled with random numbers\n",
    "\n",
    "print(torch.randn_like(x, dtype = torch.float))"
   ]
  },
  {
   "cell_type": "code",
   "execution_count": 13,
   "metadata": {},
   "outputs": [
    {
     "name": "stdout",
     "output_type": "stream",
     "text": [
      "torch.Size([2, 2])\n"
     ]
    }
   ],
   "source": [
    "# print the size of a tensor\n",
    "# torch.Size is a tuple\n",
    "\n",
    "print(x.size())"
   ]
  },
  {
   "cell_type": "code",
   "execution_count": 15,
   "metadata": {},
   "outputs": [
    {
     "name": "stdout",
     "output_type": "stream",
     "text": [
      "tensor([[5.5842, 3.9909],\n",
      "        [4.0435, 3.0597]])\n",
      "tensor([[5.5842, 3.9909],\n",
      "        [4.0435, 3.0597]])\n"
     ]
    }
   ],
   "source": [
    "# add\n",
    "\n",
    "y = torch.rand(2, 2)\n",
    "print(x + y)\n",
    "print(torch.add(x, y))"
   ]
  },
  {
   "cell_type": "code",
   "execution_count": 16,
   "metadata": {},
   "outputs": [
    {
     "name": "stdout",
     "output_type": "stream",
     "text": [
      "tensor([[5.5842, 3.9909],\n",
      "        [4.0435, 3.0597]])\n"
     ]
    }
   ],
   "source": [
    "# provide an output tensor\n",
    "\n",
    "result = torch.empty(2, 2)\n",
    "torch.add(x, y, out = result)\n",
    "print(result)"
   ]
  },
  {
   "cell_type": "code",
   "execution_count": 17,
   "metadata": {},
   "outputs": [
    {
     "name": "stdout",
     "output_type": "stream",
     "text": [
      "tensor([[5.5842, 3.9909],\n",
      "        [4.0435, 3.0597]])\n"
     ]
    }
   ],
   "source": [
    "# inplace add\n",
    "\n",
    "y.add_(x)\n",
    "print(y)"
   ]
  },
  {
   "cell_type": "code",
   "execution_count": 19,
   "metadata": {},
   "outputs": [
    {
     "name": "stdout",
     "output_type": "stream",
     "text": [
      "torch.Size([2, 8]) torch.Size([16]) torch.Size([4, 4])\n"
     ]
    }
   ],
   "source": [
    "# resize\n",
    "\n",
    "x = torch.randn(2, 8)\n",
    "y = x.view(16)\n",
    "z = x.view(-1, 4)\n",
    "print(x.size(), y.size(), z.size())"
   ]
  },
  {
   "cell_type": "code",
   "execution_count": 20,
   "metadata": {},
   "outputs": [
    {
     "name": "stdout",
     "output_type": "stream",
     "text": [
      "tensor([1.6072])\n",
      "1.6072430610656738\n"
     ]
    }
   ],
   "source": [
    "# get value of one element tensor\n",
    "\n",
    "x = torch.randn(1)\n",
    "print(x)\n",
    "print(x.item())"
   ]
  }
 ],
 "metadata": {
  "kernelspec": {
   "display_name": "Python 3",
   "language": "python",
   "name": "python3"
  },
  "language_info": {
   "codemirror_mode": {
    "name": "ipython",
    "version": 3
   },
   "file_extension": ".py",
   "mimetype": "text/x-python",
   "name": "python",
   "nbconvert_exporter": "python",
   "pygments_lexer": "ipython3",
   "version": "3.7.1"
  }
 },
 "nbformat": 4,
 "nbformat_minor": 2
}
