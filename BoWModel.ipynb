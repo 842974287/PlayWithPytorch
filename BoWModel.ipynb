{
 "cells": [
  {
   "cell_type": "code",
   "execution_count": 1,
   "metadata": {},
   "outputs": [],
   "source": [
    "# https://pytorch.org/tutorials/beginner/nlp/deep_learning_tutorial.html\n",
    "\n",
    "import torch\n",
    "import torch.nn as nn\n",
    "import torch.nn.functional as F\n",
    "import torch.optim as optim"
   ]
  },
  {
   "cell_type": "code",
   "execution_count": 2,
   "metadata": {},
   "outputs": [],
   "source": [
    "data = [(\"me gusta comer en la cafeteria\".split(), \"SPANISH\"),\n",
    "        (\"Give it to me\".split(), \"ENGLISH\"),\n",
    "        (\"No creo que sea una buena idea\".split(), \"SPANISH\"),\n",
    "        (\"No it is not a good idea to get lost at sea\".split(), \"ENGLISH\")]\n",
    "\n",
    "test_data = [(\"Yo creo que si\".split(), \"SPANISH\"),\n",
    "             (\"it is lost on me\".split(), \"ENGLISH\")]"
   ]
  },
  {
   "cell_type": "code",
   "execution_count": 3,
   "metadata": {},
   "outputs": [],
   "source": [
    "word2index = {}\n",
    "\n",
    "for seq, _ in data:\n",
    "    for word in seq:\n",
    "        if word not in word2index:\n",
    "            word2index[word] = len(word2index)"
   ]
  },
  {
   "cell_type": "code",
   "execution_count": 9,
   "metadata": {},
   "outputs": [],
   "source": [
    "class BoW(nn.Module):\n",
    "    def __init__(self, num_labels, vocab_size):\n",
    "        super(BoW, self).__init__()\n",
    "        self.linear = nn.Linear(vocab_size, num_labels)\n",
    "        \n",
    "    def forward(self, bow_vec):\n",
    "        return F.log_softmax(self.linear(bow_vec), dim = 1)\n",
    "\n",
    "def make_bow_vec(seq, word2index):\n",
    "    vec = torch.zeros(len(word2index))\n",
    "    \n",
    "    for word in seq:\n",
    "        if word in word2index:\n",
    "            vec[word2index[word]] += 1\n",
    "        \n",
    "    return vec.view(1, -1)\n",
    "\n",
    "def make_target(label, label2index):\n",
    "    return torch.LongTensor([label2index[label]])"
   ]
  },
  {
   "cell_type": "code",
   "execution_count": 13,
   "metadata": {},
   "outputs": [
    {
     "name": "stdout",
     "output_type": "stream",
     "text": [
      "tensor([[-0.4786, -0.9666]])\n",
      "tensor([0])\n"
     ]
    }
   ],
   "source": [
    "clf = BoW(2, len(word2index))\n",
    "\n",
    "with torch.no_grad():\n",
    "    sample = data[0]\n",
    "    bow_vec = make_bow_vec(sample[0], word2index)\n",
    "    print(clf(bow_vec))"
   ]
  },
  {
   "cell_type": "code",
   "execution_count": 18,
   "metadata": {},
   "outputs": [
    {
     "name": "stdout",
     "output_type": "stream",
     "text": [
      "tensor([[-0.1664, -1.8752]])\n",
      "tensor([[-2.6157, -0.0759]])\n"
     ]
    }
   ],
   "source": [
    "loss_f = nn.NLLLoss()\n",
    "optimizer = optim.SGD(clf.parameters(), lr = 0.1)\n",
    "\n",
    "for epoch in range(100):\n",
    "    for sample, label in data:\n",
    "        clf.zero_grad()\n",
    "        \n",
    "        bow_vec = make_bow_vec(sample, word2index)\n",
    "        target = make_target(label, {'SPANISH': 0, 'ENGLISH': 1})\n",
    "        \n",
    "        log_probs = clf(bow_vec)\n",
    "        loss = loss_f(log_probs, target)\n",
    "        loss.backward()\n",
    "        optimizer.step()\n",
    "        \n",
    "with torch.no_grad():\n",
    "    for sample, label in test_data:\n",
    "        bow_vec = make_bow_vec(sample, word2index)\n",
    "        log_probs = clf(bow_vec)\n",
    "        print(log_probs)"
   ]
  },
  {
   "cell_type": "code",
   "execution_count": null,
   "metadata": {},
   "outputs": [],
   "source": []
  }
 ],
 "metadata": {
  "kernelspec": {
   "display_name": "Python 3",
   "language": "python",
   "name": "python3"
  },
  "language_info": {
   "codemirror_mode": {
    "name": "ipython",
    "version": 3
   },
   "file_extension": ".py",
   "mimetype": "text/x-python",
   "name": "python",
   "nbconvert_exporter": "python",
   "pygments_lexer": "ipython3",
   "version": "3.7.1"
  }
 },
 "nbformat": 4,
 "nbformat_minor": 2
}
